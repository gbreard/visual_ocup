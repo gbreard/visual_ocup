{
 "cells": [
  {
   "cell_type": "code",
   "execution_count": null,
   "id": "cb5766e1-f62c-4ee8-a8c0-5827b099b5c7",
   "metadata": {},
   "outputs": [],
   "source": [
    "!pip install dash pandas openpyxl plotly\n"
   ]
  },
  {
   "cell_type": "code",
   "execution_count": null,
   "id": "0e0b8b74-88e4-4d4c-8c86-76651149b109",
   "metadata": {},
   "outputs": [],
   "source": [
    "import dash\n",
    "from dash import Dash, html, dcc, Input, Output\n",
    "import plotly.express as px\n",
    "import pandas as pd\n",
    "\n",
    "# Cargar datos\n",
    "df = pd.read_excel(\"/content/Datos-Coupa.xlsx\")  # Ajusta la ruta a tu archivo"
   ]
  },
  {
   "cell_type": "code",
   "execution_count": null,
   "id": "01655268-0d94-451f-8be4-13cca9806adc",
   "metadata": {},
   "outputs": [],
   "source": []
  }
 ],
 "metadata": {
  "kernelspec": {
   "display_name": "Python 3 (ipykernel)",
   "language": "python",
   "name": "python3"
  },
  "language_info": {
   "codemirror_mode": {
    "name": "ipython",
    "version": 3
   },
   "file_extension": ".py",
   "mimetype": "text/x-python",
   "name": "python",
   "nbconvert_exporter": "python",
   "pygments_lexer": "ipython3",
   "version": "3.11.4"
  }
 },
 "nbformat": 4,
 "nbformat_minor": 5
}
