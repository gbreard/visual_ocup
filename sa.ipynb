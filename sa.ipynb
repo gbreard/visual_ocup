{
 "cells": [
  {
   "cell_type": "code",
   "execution_count": 3,
   "id": "5e0bc50d-f44d-4641-b16b-91f96edf7fce",
   "metadata": {},
   "outputs": [
    {
     "name": "stdout",
     "output_type": "stream",
     "text": [
      "C:\\Users\\gbrea\\PY\\mi_entorno\n"
     ]
    }
   ],
   "source": [
    "import os\n",
    "print(os.getcwd())\n"
   ]
  },
  {
   "cell_type": "code",
   "execution_count": null,
   "id": "cb5766e1-f62c-4ee8-a8c0-5827b099b5c7",
   "metadata": {},
   "outputs": [],
   "source": [
    "!pip install dash pandas openpyxl plotly\n"
   ]
  },
  {
   "cell_type": "code",
   "execution_count": 5,
   "id": "0e0b8b74-88e4-4d4c-8c86-76651149b109",
   "metadata": {},
   "outputs": [],
   "source": [
    "import dash\n",
    "from dash import Dash, html, dcc, Input, Output\n",
    "import plotly.express as px\n",
    "import pandas as pd\n",
    "\n",
    "# Cargar datos\n",
    "df = pd.read_excel(\"Datos-Coupa.xlsx\")  # Ajusta la ruta a tu archivo"
   ]
  },
  {
   "cell_type": "code",
   "execution_count": 6,
   "id": "01655268-0d94-451f-8be4-13cca9806adc",
   "metadata": {},
   "outputs": [
    {
     "name": "stdout",
     "output_type": "stream",
     "text": [
      "['Código\\nCIUO-88', 'Ocupación', 'clasificacion_refinada', 'Descripción del Grupo', 2008, 2009, 2010, 2011, 2012, 2013, 2014, 2015, 2016, 2017, 2018, 2019, 2020, 2021, 2022, 2023, 'Años de variación 2008-2015', 'Años de variación 2016-2019', 'Años de variación 2020-2023', 'Años de variación 2008-2023', 'Tasa de variación simple del empleo 2008-2015', 'Tasa de variación simple del empleo 2016-2019', 'Tasa de variación simple del empleo 2020-2023', 'Tasa de variación simple del empleo 2008-2023', 'Tasa de variación anual ponderada del empleo 2008-2015', 'Tasa de variación anual ponderada del empleo 2016-2019', 'Tasa de variación anual ponderada del empleo 2020-2023', 'Tasa de variación anual ponderada del empleo 2008-2023', 'Tasa esperada 2020-2023', 'Media 2020-2023', 'Desvio estándar 2020-2023', 'CV 2020-2023', 'Tipo de crecimiento', 'ICDE', 'ICDE - Categoria', 'Tamaño ocupaciones', 'Percentil 75 Media 2020-2023', 'Percentil 25 Media 2020-2023', 'Percentil 75 de crecimiento ICDE', 'Percentil 75 de descrecimiento ICDE', 'Unnamed: 44', 'Unnamed: 45', 'Unnamed: 46', 'Unnamed: 47', 'Unnamed: 48', 'Unnamed: 49']\n"
     ]
    }
   ],
   "source": [
    "# Imprimir los nombres de columnas para verificación\n",
    "print(df.columns.tolist())\n"
   ]
  },
  {
   "cell_type": "code",
   "execution_count": 7,
   "id": "443e7b4f-3223-4c83-94c2-7365d00a0a18",
   "metadata": {},
   "outputs": [
    {
     "data": {
      "text/html": [
       "\n",
       "        <iframe\n",
       "            width=\"100%\"\n",
       "            height=\"650\"\n",
       "            src=\"http://127.0.0.1:8050/\"\n",
       "            frameborder=\"0\"\n",
       "            allowfullscreen\n",
       "            \n",
       "        ></iframe>\n",
       "        "
      ],
      "text/plain": [
       "<IPython.lib.display.IFrame at 0x1cc65b0eb90>"
      ]
     },
     "metadata": {},
     "output_type": "display_data"
    }
   ],
   "source": [
    "# Inicializar la aplicación Dash\n",
    "app = Dash(__name__)\n",
    "\n",
    "# Asegurarse de que las columnas de años son strings para facilitar la manipulación\n",
    "df.columns = df.columns.map(str)\n",
    "\n",
    "# Lista de años como strings para los sliders\n",
    "years = [str(year) for year in range(2008, 2024)]\n",
    "\n",
    "# Definir la disposición de la aplicación\n",
    "app.layout = html.Div([\n",
    "    html.H1(\"Dashboard de Ocupaciones\"),\n",
    "    dcc.Dropdown(\n",
    "        id='occupation-dropdown',\n",
    "        options=[{'label': i, 'value': i} for i in df['Ocupación'].unique()],\n",
    "        value=df['Ocupación'].unique()[0]\n",
    "    ),\n",
    "    dcc.RangeSlider(\n",
    "        id='year-range-slider',\n",
    "        min=2008,\n",
    "        max=2023,\n",
    "        step=1,\n",
    "        value=[2008, 2023],\n",
    "        marks={year: year for year in years}\n",
    "    ),\n",
    "    dcc.Graph(id='employment-graph'),\n",
    "    dcc.Graph(id='growth-graph'),\n",
    "])\n",
    "\n",
    "# Definir la interactividad\n",
    "@app.callback(\n",
    "    [Output('employment-graph', 'figure'), Output('growth-graph', 'figure')],\n",
    "    [Input('occupation-dropdown', 'value'), Input('year-range-slider', 'value')]\n",
    ")\n",
    "def update_graphs(selected_occupation, year_range):\n",
    "    # Filtrar por ocupación\n",
    "    filtered_df = df[df['Ocupación'] == selected_occupation]\n",
    "    \n",
    "    # Transformar datos a formato long\n",
    "    melted_df = filtered_df.melt(id_vars=['Ocupación', 'clasificacion_refinada', 'Descripción del Grupo'], \n",
    "                                 value_vars=[year for year in years if int(year) >= year_range[0] and int(year) <= year_range[1]],\n",
    "                                 var_name='Año', value_name='Empleo')\n",
    "\n",
    "    # Crear gráficos\n",
    "    fig_employment = px.line(melted_df, x='Año', y='Empleo', title='Empleo a lo largo del tiempo')\n",
    "    fig_growth = px.bar(melted_df, x='Año', y='Empleo', title='Crecimiento por Año')\n",
    "\n",
    "    return fig_employment, fig_growth\n",
    "\n",
    "# Correr la aplicación en modo adecuado para notebooks\n",
    "if __name__ == '__main__':\n",
    "    app.run_server(mode='external')  # Cambiado de 'inline' a 'external' para adaptarse a cambios recientes"
   ]
  },
  {
   "cell_type": "code",
   "execution_count": 8,
   "id": "6478e2bd-07de-4f3b-9020-b8623dae1484",
   "metadata": {},
   "outputs": [
    {
     "name": "stdout",
     "output_type": "stream",
     "text": [
      "Note: you may need to restart the kernel to use updated packages.\n"
     ]
    }
   ],
   "source": [
    "pip freeze > requirements.txt\n"
   ]
  },
  {
   "cell_type": "code",
   "execution_count": null,
   "id": "8d776f6f-4401-4e63-96d8-69893af6beab",
   "metadata": {},
   "outputs": [],
   "source": []
  }
 ],
 "metadata": {
  "kernelspec": {
   "display_name": "Python 3 (ipykernel)",
   "language": "python",
   "name": "python3"
  },
  "language_info": {
   "codemirror_mode": {
    "name": "ipython",
    "version": 3
   },
   "file_extension": ".py",
   "mimetype": "text/x-python",
   "name": "python",
   "nbconvert_exporter": "python",
   "pygments_lexer": "ipython3",
   "version": "3.11.4"
  }
 },
 "nbformat": 4,
 "nbformat_minor": 5
}
